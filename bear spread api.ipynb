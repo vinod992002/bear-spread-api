{
 "cells": [
  {
   "cell_type": "code",
   "execution_count": 5,
   "id": "96f5dd65-868f-4554-ac35-b7f026d202f5",
   "metadata": {},
   "outputs": [
    {
     "data": {
      "text/plain": [
       "'C:\\\\Users\\\\91760\\\\Uns'"
      ]
     },
     "execution_count": 5,
     "metadata": {},
     "output_type": "execute_result"
    }
   ],
   "source": [
    "import os\n",
    "os.getcwd()"
   ]
  },
  {
   "cell_type": "code",
   "execution_count": 23,
   "id": "4334bd12-bccb-4291-b64e-68cd0d10530e",
   "metadata": {},
   "outputs": [],
   "source": [
    "apiKey='OFEGW7f8'\n",
    "userid='P329268'\n",
    "pin=2002\n",
    "totpKey='2P56UKBERB54QOVM7PWEMXRCGU'"
   ]
  },
  {
   "cell_type": "code",
   "execution_count": 13,
   "id": "13193cce-3c58-447b-bd13-f5abed2e8708",
   "metadata": {
    "scrolled": true
   },
   "outputs": [
    {
     "name": "stdout",
     "output_type": "stream",
     "text": [
      "Requirement already satisfied: attrs==23.1.0 in c:\\users\\91760\\anaconda3\\lib\\site-packages (from -r requirements_dev.txt (line 1)) (23.1.0)\n",
      "Collecting autobahn==23.6.2 (from -r requirements_dev.txt (line 2))\n",
      "  Using cached autobahn-23.6.2.tar.gz (480 kB)\n",
      "  Preparing metadata (setup.py): started\n",
      "  Preparing metadata (setup.py): finished with status 'done'\n",
      "Collecting Automat==22.10.0 (from -r requirements_dev.txt (line 3))\n",
      "  Using cached Automat-22.10.0-py2.py3-none-any.whl.metadata (1.0 kB)\n",
      "Collecting certifi==2023.5.7 (from -r requirements_dev.txt (line 4))\n",
      "  Using cached certifi-2023.5.7-py3-none-any.whl.metadata (2.2 kB)\n",
      "Collecting cffi==1.15.1 (from -r requirements_dev.txt (line 5))\n",
      "  Using cached cffi-1.15.1.tar.gz (508 kB)\n",
      "  Preparing metadata (setup.py): started\n",
      "  Preparing metadata (setup.py): finished with status 'error'\n",
      "Note: you may need to restart the kernel to use updated packages.\n"
     ]
    },
    {
     "name": "stderr",
     "output_type": "stream",
     "text": [
      "  error: subprocess-exited-with-error\n",
      "  \n",
      "  python setup.py egg_info did not run successfully.\n",
      "  exit code: 1\n",
      "  \n",
      "  [24 lines of output]\n",
      "  Traceback (most recent call last):\n",
      "    File \"<string>\", line 2, in <module>\n",
      "    File \"<pip-setuptools-caller>\", line 34, in <module>\n",
      "    File \"C:\\Users\\91760\\AppData\\Local\\Temp\\pip-install-bq1ho26p\\cffi_f11468b8c16a48188113046a4ea727b7\\setup.py\", line 126, in <module>\n",
      "      if sys.platform == \"win32\" and uses_msvc():\n",
      "                                     ^^^^^^^^^^^\n",
      "    File \"C:\\Users\\91760\\AppData\\Local\\Temp\\pip-install-bq1ho26p\\cffi_f11468b8c16a48188113046a4ea727b7\\setup.py\", line 105, in uses_msvc\n",
      "      return config.try_compile('#ifndef _MSC_VER\\n#error \"not MSVC\"\\n#endif')\n",
      "             ^^^^^^^^^^^^^^^^^^^^^^^^^^^^^^^^^^^^^^^^^^^^^^^^^^^^^^^^^^^^^^^^^\n",
      "    File \"C:\\Users\\91760\\anaconda3\\Lib\\site-packages\\setuptools\\_distutils\\command\\config.py\", line 220, in try_compile\n",
      "      self._compile(body, headers, include_dirs, lang)\n",
      "    File \"C:\\Users\\91760\\anaconda3\\Lib\\site-packages\\setuptools\\_distutils\\command\\config.py\", line 132, in _compile\n",
      "      self.compiler.compile([src], include_dirs=include_dirs)\n",
      "    File \"C:\\Users\\91760\\anaconda3\\Lib\\site-packages\\setuptools\\_distutils\\_msvccompiler.py\", line 343, in compile\n",
      "      self.initialize()\n",
      "    File \"C:\\Users\\91760\\anaconda3\\Lib\\site-packages\\setuptools\\_distutils\\_msvccompiler.py\", line 253, in initialize\n",
      "      vc_env = _get_vc_env(plat_spec)\n",
      "               ^^^^^^^^^^^^^^^^^^^^^^\n",
      "    File \"C:\\Users\\91760\\anaconda3\\Lib\\site-packages\\setuptools\\msvc.py\", line 230, in msvc14_get_vc_env\n",
      "      return _msvc14_get_vc_env(plat_spec)\n",
      "             ^^^^^^^^^^^^^^^^^^^^^^^^^^^^^\n",
      "    File \"C:\\Users\\91760\\anaconda3\\Lib\\site-packages\\setuptools\\msvc.py\", line 187, in _msvc14_get_vc_env\n",
      "      raise distutils.errors.DistutilsPlatformError(\"Unable to find vcvarsall.bat\")\n",
      "  distutils.errors.DistutilsPlatformError: Microsoft Visual C++ 14.0 or greater is required. Get it with \"Microsoft C++ Build Tools\": https://visualstudio.microsoft.com/visual-cpp-build-tools/\n",
      "  [end of output]\n",
      "  \n",
      "  note: This error originates from a subprocess, and is likely not a problem with pip.\n",
      "error: metadata-generation-failed\n",
      "\n",
      "Encountered error while generating package metadata.\n",
      "\n",
      "See above for output.\n",
      "\n",
      "note: This is an issue with the package mentioned above, not pip.\n",
      "hint: See above for details.\n"
     ]
    }
   ],
   "source": [
    "pip install -r requirements_dev.txt "
   ]
  },
  {
   "cell_type": "code",
   "execution_count": 19,
   "id": "65955759-2437-42bd-a9a5-ff7eb5de8e7a",
   "metadata": {},
   "outputs": [
    {
     "name": "stdout",
     "output_type": "stream",
     "text": [
      "Name: smartapi-python\n",
      "Version: 1.5.1Note: you may need to restart the kernel to use updated packages.\n",
      "\n",
      "Summary: Angel Broking openApi integration\n",
      "Home-page: https://github.com/angelbroking-github/smartapi-python\n",
      "Author: ab-smartapi\n",
      "Author-email: smartapi.sdk@gmail.com\n",
      "License: \n",
      "Location: C:\\Users\\91760\\anaconda3\\Lib\\site-packages\n",
      "Requires: python-dateutil, requests, six\n",
      "Required-by: \n"
     ]
    }
   ],
   "source": [
    "pip show smartapi-python"
   ]
  },
  {
   "cell_type": "code",
   "execution_count": 5,
   "id": "ae60c587-5dcf-4315-a00e-02da2fec90bc",
   "metadata": {},
   "outputs": [
    {
     "name": "stdout",
     "output_type": "stream",
     "text": [
      "Collecting pyotp\n",
      "Note: you may need to restart the kernel to use updated packages.  Downloading pyotp-2.9.0-py3-none-any.whl.metadata (9.8 kB)\n",
      "\n",
      "Downloading pyotp-2.9.0-py3-none-any.whl (13 kB)\n",
      "Installing collected packages: pyotp\n",
      "Successfully installed pyotp-2.9.0\n"
     ]
    }
   ],
   "source": [
    "pip install pyotp\n"
   ]
  },
  {
   "cell_type": "code",
   "execution_count": 25,
   "id": "b87fb708-0676-48e3-98bc-21da868be241",
   "metadata": {},
   "outputs": [
    {
     "name": "stderr",
     "output_type": "stream",
     "text": [
      "[I 241030 18:35:26 smartConnect:124] in pool\n"
     ]
    },
    {
     "data": {
      "text/plain": [
       "{'status': True,\n",
       " 'message': 'SUCCESS',\n",
       " 'errorcode': '',\n",
       " 'data': {'clientcode': 'P329268',\n",
       "  'name': 'PATHLAVATH  VINOD',\n",
       "  'email': '',\n",
       "  'mobileno': '',\n",
       "  'exchanges': ['nse_fo',\n",
       "   'nse_cm',\n",
       "   'cde_fo',\n",
       "   'ncx_fo',\n",
       "   'bse_fo',\n",
       "   'bse_cm',\n",
       "   'mcx_fo'],\n",
       "  'products': ['MARGIN', 'MIS', 'NRML', 'CNC', 'CO', 'BO'],\n",
       "  'lastlogintime': '',\n",
       "  'broker': ''}}"
      ]
     },
     "execution_count": 25,
     "metadata": {},
     "output_type": "execute_result"
    }
   ],
   "source": [
    "from SmartApi import SmartConnect\n",
    "import pyotp\n",
    "obj=SmartConnect(api_key=apiKey)\n",
    "data= obj.generateSession(userid, pin, pyotp. TOTP (totpKey).now())\n",
    "\n",
    "refreshToken= data['data']['refreshToken'] \n",
    "res = obj.getProfile (refreshToken)\n",
    "res"
   ]
  },
  {
   "cell_type": "code",
   "execution_count": 5,
   "id": "0a654dd2-49ab-4596-bd52-7514a5496731",
   "metadata": {},
   "outputs": [
    {
     "name": "stdout",
     "output_type": "stream",
     "text": [
      "Collecting mibian\n",
      "  Using cached mibian-0.1.3.zip (4.3 kB)\n",
      "  Preparing metadata (setup.py): started\n",
      "  Preparing metadata (setup.py): finished with status 'done'\n",
      "Building wheels for collected packages: mibian\n",
      "  Building wheel for mibian (setup.py): started\n",
      "  Building wheel for mibian (setup.py): finished with status 'done'\n",
      "  Created wheel for mibian: filename=mibian-0.1.3-py3-none-any.whl size=4036 sha256=29635161130e663a23035f379475af2f5e25f4a492a8fba8932b6661aac438af\n",
      "  Stored in directory: c:\\users\\91760\\appdata\\local\\pip\\cache\\wheels\\b2\\71\\71\\a9ff30d4851199bf1efabdda83809623cf181762214ae6b7c7\n",
      "Successfully built mibian\n",
      "Installing collected packages: mibian\n",
      "Successfully installed mibian-0.1.3\n"
     ]
    }
   ],
   "source": [
    "!pip install mibian\n",
    "\n",
    "\n"
   ]
  },
  {
   "cell_type": "code",
   "execution_count": 9,
   "id": "fd71cb6e-aa8a-4a12-9369-ac71642cab02",
   "metadata": {},
   "outputs": [
    {
     "name": "stdout",
     "output_type": "stream",
     "text": [
      "Collecting yfinance\n",
      "  Downloading yfinance-0.2.48-py2.py3-none-any.whl.metadata (13 kB)\n",
      "Requirement already satisfied: pandas>=1.3.0 in c:\\users\\91760\\anaconda3\\lib\\site-packages (from yfinance) (2.2.2)\n",
      "Requirement already satisfied: numpy>=1.16.5 in c:\\users\\91760\\anaconda3\\lib\\site-packages (from yfinance) (1.26.4)\n",
      "Requirement already satisfied: requests>=2.31 in c:\\users\\91760\\anaconda3\\lib\\site-packages (from yfinance) (2.32.2)\n",
      "Collecting multitasking>=0.0.7 (from yfinance)\n",
      "  Using cached multitasking-0.0.11-py3-none-any.whl.metadata (5.5 kB)\n",
      "Requirement already satisfied: lxml>=4.9.1 in c:\\users\\91760\\anaconda3\\lib\\site-packages (from yfinance) (5.2.1)\n",
      "Requirement already satisfied: platformdirs>=2.0.0 in c:\\users\\91760\\anaconda3\\lib\\site-packages (from yfinance) (3.10.0)\n",
      "Requirement already satisfied: pytz>=2022.5 in c:\\users\\91760\\anaconda3\\lib\\site-packages (from yfinance) (2024.1)\n",
      "Requirement already satisfied: frozendict>=2.3.4 in c:\\users\\91760\\anaconda3\\lib\\site-packages (from yfinance) (2.4.2)\n",
      "Collecting peewee>=3.16.2 (from yfinance)\n",
      "  Using cached peewee-3.17.7.tar.gz (939 kB)\n",
      "  Installing build dependencies: started\n",
      "  Installing build dependencies: finished with status 'done'\n"
     ]
    }
   ],
   "source": [
    "!pip install yfinance\n"
   ]
  },
  {
   "cell_type": "code",
   "execution_count": 27,
   "id": "7274b8aa-b0c4-4370-8485-e008e4d460ff",
   "metadata": {},
   "outputs": [],
   "source": [
    "from SmartApi import SmartConnect\n",
    "from SmartApi.smartWebSocketV2 import SmartWebSocketV2\n",
    "import os\n",
    "import urllib\n",
    "import json\n",
    "import pandas as pd\n",
    "import numpy as np\n",
    "import datetime as dt\n",
    "from pyotp import TOTP\n",
    "import threading\n",
    "import mibian\n",
    "import time\n",
    "import yfinance as yf"
   ]
  },
  {
   "cell_type": "code",
   "execution_count": 29,
   "id": "f66cb2d4-6bc0-4b59-bab2-13dd0d7bf97b",
   "metadata": {},
   "outputs": [],
   "source": [
    "instrument_url = \"https://margincalculator.angelbroking.com/OpenAPI_File/files/OpenAPIScripMaster.json\"\n",
    "response = urllib.request.urlopen(instrument_url)\n",
    "instrument_list = json.loads(response.read())"
   ]
  },
  {
   "cell_type": "code",
   "execution_count": 31,
   "id": "23d97a66-8318-40b0-82b3-c020a43f46fb",
   "metadata": {},
   "outputs": [],
   "source": [
    "#function to extract all option contracts for a given ticker        \n",
    "def option_contracts(ticker, option_type=\"CE\"):\n",
    "    option_contracts = []\n",
    "    for instrument in instrument_list:\n",
    "        if instrument[\"name\"]==ticker and instrument[\"instrumenttype\"] in [\"OPTSTK\",\"OPTIDX\"] and instrument[\"symbol\"][-2:]==option_type:\n",
    "            option_contracts.append(instrument)\n",
    "    return pd.DataFrame(option_contracts)\n"
   ]
  },
  {
   "cell_type": "code",
   "execution_count": 33,
   "id": "6c77b15e-1593-44f7-a73a-6acca0191380",
   "metadata": {},
   "outputs": [],
   "source": [
    "#get underlying price\n",
    "underlying_price = obj.ltpData(\"NSE\", \"BANKNIFTY-EQ\", \"26009\")[\"data\"][\"ltp\"]"
   ]
  },
  {
   "cell_type": "code",
   "execution_count": 37,
   "id": "40feff40-1661-4f1d-8a41-31c2ebcce274",
   "metadata": {},
   "outputs": [
    {
     "name": "stdout",
     "output_type": "stream",
     "text": [
      "51807.5\n"
     ]
    }
   ],
   "source": [
    "print(underlying_price)"
   ]
  },
  {
   "cell_type": "code",
   "execution_count": 39,
   "id": "bc7332d3-f6d3-466e-abe1-325f1e824fde",
   "metadata": {},
   "outputs": [],
   "source": [
    "def option_chain_bear_spread(ticker, underlying_price, duration = 0, option_type=\"CE\", exchange=\"NFO\"):\n",
    "    #duration = 0 means the closest expiry, 1 means the next closest and so on\n",
    "    #num =5 means return 5 option contracts closest to the market\n",
    "    df_opt_contracts = option_contracts(ticker)\n",
    "    df_opt_contracts[\"time_to_expiry\"] = (pd.to_datetime(df_opt_contracts[\"expiry\"]) + dt.timedelta(0,16*3600) - dt.datetime.now()).dt.total_seconds() / dt.timedelta(days=1).total_seconds() # add 1 to get around the issue of time to expiry becoming 0 for options maturing on trading day   \n",
    "    df_opt_contracts[\"strike\"] = pd.to_numeric(df_opt_contracts[\"strike\"])/100\n",
    "    min_day_count = np.sort(df_opt_contracts[\"time_to_expiry\"].unique())[duration]    \n",
    "    temp = (df_opt_contracts[df_opt_contracts[\"time_to_expiry\"] == min_day_count]).reset_index(drop=True)\n",
    "    temp.sort_values(by=[\"strike\"],inplace=True, ignore_index=True)\n",
    "    atm_idx = abs(temp[\"strike\"] - underlying_price).argmin()\n",
    "    return temp.iloc[[atm_idx,atm_idx+2]]\n"
   ]
  },
  {
   "cell_type": "code",
   "execution_count": 53,
   "id": "f278c506-f351-46fb-bf72-9d98fb4a7503",
   "metadata": {
    "scrolled": true
   },
   "outputs": [
    {
     "name": "stderr",
     "output_type": "stream",
     "text": [
      "C:\\Users\\91760\\AppData\\Local\\Temp\\ipykernel_14584\\874142782.py:5: UserWarning: Could not infer format, so each element will be parsed individually, falling back to `dateutil`. To ensure parsing is consistent and as-expected, please specify a format.\n",
      "  df_opt_contracts[\"time_to_expiry\"] = (pd.to_datetime(df_opt_contracts[\"expiry\"]) + dt.timedelta(0,16*3600) - dt.datetime.now()).dt.total_seconds() / dt.timedelta(days=1).total_seconds() # add 1 to get around the issue of time to expiry becoming 0 for options maturing on trading day\n"
     ]
    }
   ],
   "source": [
    "opt_chain = option_chain_bear_spread(\"BANKNIFTY\", underlying_price)\n"
   ]
  },
  {
   "cell_type": "code",
   "execution_count": 55,
   "id": "a20bc8c3-3e8f-45c7-9563-23b96800030a",
   "metadata": {},
   "outputs": [
    {
     "data": {
      "text/html": [
       "<div>\n",
       "<style scoped>\n",
       "    .dataframe tbody tr th:only-of-type {\n",
       "        vertical-align: middle;\n",
       "    }\n",
       "\n",
       "    .dataframe tbody tr th {\n",
       "        vertical-align: top;\n",
       "    }\n",
       "\n",
       "    .dataframe thead th {\n",
       "        text-align: right;\n",
       "    }\n",
       "</style>\n",
       "<table border=\"1\" class=\"dataframe\">\n",
       "  <thead>\n",
       "    <tr style=\"text-align: right;\">\n",
       "      <th></th>\n",
       "      <th>token</th>\n",
       "      <th>symbol</th>\n",
       "      <th>name</th>\n",
       "      <th>expiry</th>\n",
       "      <th>strike</th>\n",
       "      <th>lotsize</th>\n",
       "      <th>instrumenttype</th>\n",
       "      <th>exch_seg</th>\n",
       "      <th>tick_size</th>\n",
       "      <th>time_to_expiry</th>\n",
       "    </tr>\n",
       "  </thead>\n",
       "  <tbody>\n",
       "    <tr>\n",
       "      <th>61</th>\n",
       "      <td>43133</td>\n",
       "      <td>BANKNIFTY30OCT2451800CE</td>\n",
       "      <td>BANKNIFTY</td>\n",
       "      <td>30OCT2024</td>\n",
       "      <td>51800.0</td>\n",
       "      <td>15</td>\n",
       "      <td>OPTIDX</td>\n",
       "      <td>NFO</td>\n",
       "      <td>5.000000</td>\n",
       "      <td>-0.117583</td>\n",
       "    </tr>\n",
       "    <tr>\n",
       "      <th>63</th>\n",
       "      <td>43137</td>\n",
       "      <td>BANKNIFTY30OCT2452000CE</td>\n",
       "      <td>BANKNIFTY</td>\n",
       "      <td>30OCT2024</td>\n",
       "      <td>52000.0</td>\n",
       "      <td>15</td>\n",
       "      <td>OPTIDX</td>\n",
       "      <td>NFO</td>\n",
       "      <td>5.000000</td>\n",
       "      <td>-0.117583</td>\n",
       "    </tr>\n",
       "  </tbody>\n",
       "</table>\n",
       "</div>"
      ],
      "text/plain": [
       "    token                   symbol       name     expiry   strike lotsize  \\\n",
       "61  43133  BANKNIFTY30OCT2451800CE  BANKNIFTY  30OCT2024  51800.0      15   \n",
       "63  43137  BANKNIFTY30OCT2452000CE  BANKNIFTY  30OCT2024  52000.0      15   \n",
       "\n",
       "   instrumenttype exch_seg tick_size  time_to_expiry  \n",
       "61         OPTIDX      NFO  5.000000       -0.117583  \n",
       "63         OPTIDX      NFO  5.000000       -0.117583  "
      ]
     },
     "execution_count": 55,
     "metadata": {},
     "output_type": "execute_result"
    }
   ],
   "source": [
    "opt_chain.head()"
   ]
  },
  {
   "cell_type": "code",
   "execution_count": 57,
   "id": "e43bab03-2e0d-41d6-9dcf-b1c44be6a848",
   "metadata": {},
   "outputs": [],
   "source": [
    "opt_chain = opt_chain.sort_values(by=[\"time_to_expiry\"], ignore_index=True)"
   ]
  },
  {
   "cell_type": "code",
   "execution_count": 59,
   "id": "737c4981-4aba-4b94-8c68-4cdb3188471f",
   "metadata": {},
   "outputs": [
    {
     "data": {
      "text/html": [
       "<div>\n",
       "<style scoped>\n",
       "    .dataframe tbody tr th:only-of-type {\n",
       "        vertical-align: middle;\n",
       "    }\n",
       "\n",
       "    .dataframe tbody tr th {\n",
       "        vertical-align: top;\n",
       "    }\n",
       "\n",
       "    .dataframe thead th {\n",
       "        text-align: right;\n",
       "    }\n",
       "</style>\n",
       "<table border=\"1\" class=\"dataframe\">\n",
       "  <thead>\n",
       "    <tr style=\"text-align: right;\">\n",
       "      <th></th>\n",
       "      <th>token</th>\n",
       "      <th>symbol</th>\n",
       "      <th>name</th>\n",
       "      <th>expiry</th>\n",
       "      <th>strike</th>\n",
       "      <th>lotsize</th>\n",
       "      <th>instrumenttype</th>\n",
       "      <th>exch_seg</th>\n",
       "      <th>tick_size</th>\n",
       "      <th>time_to_expiry</th>\n",
       "    </tr>\n",
       "  </thead>\n",
       "  <tbody>\n",
       "    <tr>\n",
       "      <th>0</th>\n",
       "      <td>43133</td>\n",
       "      <td>BANKNIFTY30OCT2451800CE</td>\n",
       "      <td>BANKNIFTY</td>\n",
       "      <td>30OCT2024</td>\n",
       "      <td>51800.0</td>\n",
       "      <td>15</td>\n",
       "      <td>OPTIDX</td>\n",
       "      <td>NFO</td>\n",
       "      <td>5.000000</td>\n",
       "      <td>-0.117583</td>\n",
       "    </tr>\n",
       "    <tr>\n",
       "      <th>1</th>\n",
       "      <td>43137</td>\n",
       "      <td>BANKNIFTY30OCT2452000CE</td>\n",
       "      <td>BANKNIFTY</td>\n",
       "      <td>30OCT2024</td>\n",
       "      <td>52000.0</td>\n",
       "      <td>15</td>\n",
       "      <td>OPTIDX</td>\n",
       "      <td>NFO</td>\n",
       "      <td>5.000000</td>\n",
       "      <td>-0.117583</td>\n",
       "    </tr>\n",
       "  </tbody>\n",
       "</table>\n",
       "</div>"
      ],
      "text/plain": [
       "   token                   symbol       name     expiry   strike lotsize  \\\n",
       "0  43133  BANKNIFTY30OCT2451800CE  BANKNIFTY  30OCT2024  51800.0      15   \n",
       "1  43137  BANKNIFTY30OCT2452000CE  BANKNIFTY  30OCT2024  52000.0      15   \n",
       "\n",
       "  instrumenttype exch_seg tick_size  time_to_expiry  \n",
       "0         OPTIDX      NFO  5.000000       -0.117583  \n",
       "1         OPTIDX      NFO  5.000000       -0.117583  "
      ]
     },
     "execution_count": 59,
     "metadata": {},
     "output_type": "execute_result"
    }
   ],
   "source": [
    "opt_chain.head()"
   ]
  },
  {
   "cell_type": "code",
   "execution_count": 49,
   "id": "e3f8aad7-2399-4db4-a642-5658887d0639",
   "metadata": {},
   "outputs": [],
   "source": [
    "tokens = opt_chain[\"token\"].to_list()\n",
    "symbol_dict = dict(zip(opt_chain.token, opt_chain.symbol))\n",
    "option_data = {symbol_dict[i]:{} for i in tokens}"
   ]
  },
  {
   "cell_type": "code",
   "execution_count": 65,
   "id": "2ca54cbc-00c2-4599-bee2-70fbc4fa234f",
   "metadata": {},
   "outputs": [],
   "source": [
    "for symbol in opt_chain.symbol:\n",
    "    option_data[symbol][\"strike\"] = opt_chain.loc[opt_chain.symbol == symbol, \"strike\"].to_list()[0]\n",
    "    option_data[symbol][\"type\"] = opt_chain.loc[opt_chain.symbol == symbol, \"instrumenttype\"].to_list()[0]\n",
    "    option_data[symbol][\"time_to_expiry\"] = opt_chain.loc[opt_chain.symbol == symbol, \"time_to_expiry\"].to_list()[0]"
   ]
  },
  {
   "cell_type": "code",
   "execution_count": 73,
   "id": "b339edc8-5f3b-499d-8671-c6402233dabe",
   "metadata": {},
   "outputs": [],
   "source": [
    "#streaming real time data\n",
    "feed_token = obj.getfeedToken()\n",
    "sws = SmartWebSocketV2(data[\"data\"][\"jwtToken\"], userid,pin, feed_token)\n",
    "\n",
    "correlation_id = \"stream_1\" #any string value which will help identify the specific streaming in case of concurrent streaming\n",
    "action = 1 #1 subscribe, 0 unsubscribe\n",
    "mode = 3 #1 for LTP, 2 for Quote and 3 for SnapQuote\n",
    "\n",
    "token_list = [{\"exchangeType\": 2, \"tokens\": tokens}]"
   ]
  },
  {
   "cell_type": "code",
   "execution_count": 79,
   "id": "c88ddbee-9646-4cb4-ae7b-7ef920c8787b",
   "metadata": {},
   "outputs": [],
   "source": [
    "def on_data(wsapp, message):\n",
    "    option_data[symbol_dict[message['token']]][\"price\"] = float(message[\"last_traded_price\"])\n",
    "    option_data[symbol_dict[message['token']]][\"oi\"] = int(message[\"open_interest\"])\n",
    "    option_data[symbol_dict[message['token']]][\"volume\"] = int(message[\"volume_trade_for_the_day\"])\n",
    "    option_data[symbol_dict[message['token']]][\"bid\"] = float(message[\"best_5_buy_data\"][0][\"price\"])\n",
    "    option_data[symbol_dict[message['token']]][\"ask\"] = float(message[\"best_5_sell_data\"][0][\"price\"])\n",
    "    option_data[symbol_dict[message['token']]][\"mid_price\"] = (float(message[\"best_5_buy_data\"][0][\"price\"]) + float(message[\"best_5_sell_data\"][0][\"price\"]))/2\n"
   ]
  },
  {
   "cell_type": "code",
   "execution_count": 81,
   "id": "d19eadb2-f63b-466d-85d7-7b7709c370ca",
   "metadata": {},
   "outputs": [],
   "source": [
    "def on_open(wsapp):\n",
    "    print(\"on open\")\n",
    "    sws.subscribe(correlation_id, mode, token_list)\n"
   ]
  },
  {
   "cell_type": "code",
   "execution_count": 83,
   "id": "938aa6a9-b873-4186-b88c-9d7156f1a7e0",
   "metadata": {},
   "outputs": [],
   "source": [
    "def on_error(wsapp, error):\n",
    "    print(error)\n"
   ]
  },
  {
   "cell_type": "code",
   "execution_count": 85,
   "id": "7de428ff-a8c8-4232-963a-6691addc1503",
   "metadata": {},
   "outputs": [],
   "source": [
    "# Assign the callbacks.\n",
    "sws.on_open = on_open\n",
    "sws.on_data = on_data\n",
    "sws.on_error = on_error"
   ]
  },
  {
   "cell_type": "code",
   "execution_count": 87,
   "id": "8d149836-a37b-45e3-bc3f-a0b17876ac6a",
   "metadata": {},
   "outputs": [
    {
     "name": "stderr",
     "output_type": "stream",
     "text": [
      "[W 241030 19:14:38 smartWebSocketV2:319] Attempting to resubscribe/reconnect (Attempt 1)...\n"
     ]
    }
   ],
   "source": [
    "def connection_fun():\n",
    "    sws.connect()\n",
    "    \n",
    "con_thread = threading.Thread(target=connection_fun, daemon=True)\n",
    "con_thread.start()\n",
    "time.sleep(3)"
   ]
  },
  {
   "cell_type": "code",
   "execution_count": 89,
   "id": "a6580843-57e7-49c4-b1a3-343944bdc7d9",
   "metadata": {},
   "outputs": [],
   "source": [
    "# calculate and update option greeks using real time market data\n",
    "ir = 0.07\n"
   ]
  },
  {
   "cell_type": "code",
   "execution_count": 119,
   "id": "5869bb6f-b010-4bc5-8e80-f22d448fd749",
   "metadata": {},
   "outputs": [],
   "source": [
    "def on_data(wsapp, message):\n",
    "    # Ensure that the message has the required fields\n",
    "    try:\n",
    "        option_data[symbol_dict[message['token']]][\"price\"] = float(message[\"last_traded_price\"])\n",
    "        option_data[symbol_dict[message['token']]][\"oi\"] = int(message[\"open_interest\"])\n",
    "        option_data[symbol_dict[message['token']]][\"volume\"] = int(message[\"volume_trade_for_the_day\"])\n",
    "        option_data[symbol_dict[message['token']]][\"bid\"] = float(message[\"best_5_buy_data\"][0][\"price\"])\n",
    "        option_data[symbol_dict[message['token']]][\"ask\"] = float(message[\"best_5_sell_data\"][0][\"price\"])\n",
    "        option_data[symbol_dict[message['token']]][\"mid_price\"] = (\n",
    "            float(message[\"best_5_buy_data\"][0][\"price\"]) + float(message[\"best_5_sell_data\"][0][\"price\"])\n",
    "        ) / 2\n",
    "    except KeyError as e:\n",
    "        print(f\"Key error: {e} in message {message}\")\n",
    "\n",
    "# Assign the callbacks for WebSocket\n",
    "sws.on_open = on_open\n",
    "sws.on_data = on_data\n",
    "sws.on_error = on_error\n"
   ]
  },
  {
   "cell_type": "code",
   "execution_count": 121,
   "id": "2458d8e6-4973-41fd-b043-439d621df980",
   "metadata": {},
   "outputs": [],
   "source": [
    "def connection_fun():\n",
    "    sws.connect()\n",
    "\n",
    "# Start the WebSocket connection in a thread\n",
    "con_thread = threading.Thread(target=connection_fun, daemon=True)\n",
    "con_thread.start()\n"
   ]
  },
  {
   "cell_type": "code",
   "execution_count": 123,
   "id": "864efeff-4f2a-4b41-a6e4-98f71b29838a",
   "metadata": {},
   "outputs": [],
   "source": [
    "def on_data(wsapp, message):\n",
    "    print(message)  # Check if message is being received\n"
   ]
  },
  {
   "cell_type": "code",
   "execution_count": 125,
   "id": "f756613d-0e86-4628-bcfc-070f48637894",
   "metadata": {},
   "outputs": [],
   "source": [
    "# calculate and update option greeks using real time market data\n",
    "ir = 0.07\n"
   ]
  },
  {
   "cell_type": "code",
   "execution_count": 129,
   "id": "7eb64eaa-a2b3-4c6c-b88e-53af2edf7422",
   "metadata": {},
   "outputs": [
    {
     "name": "stdout",
     "output_type": "stream",
     "text": [
      "Price data is missing for option: BANKNIFTY30OCT2451800CE, skipping...\n",
      "Price data is missing for option: BANKNIFTY30OCT2452000CE, skipping...\n"
     ]
    }
   ],
   "source": [
    "for option in option_data:\n",
    "    # Check if price is available before proceeding\n",
    "    if \"price\" not in option_data[option]:\n",
    "        print(f\"Price data is missing for option: {option}, skipping...\")\n",
    "        continue  # Skip to the next option if price is missing\n",
    "\n",
    "    up = obj.ltpData(\"NSE\", \"BANKNIFTY-EQ\", \"26009\")[\"data\"][\"ltp\"]\n",
    "    mbo = mibian.BS([up, option_data[option][\"strike\"], ir, option_data[option][\"time_to_expiry\"]],\n",
    "                    callPrice=option_data[option][\"price\"])\n",
    "    option_data[option][\"imp_vol\"] = mbo.impliedVolatility\n",
    "\n",
    "    mbo = mibian.BS([up, option_data[option][\"strike\"], ir, option_data[option][\"time_to_expiry\"]],\n",
    "                    volatility=option_data[option][\"imp_vol\"])\n",
    "    option_data[option][\"delta\"] = mbo.callDelta if option_data[option][\"type\"] == \"CE\" else mbo.putDelta\n",
    "    option_data[option][\"theta\"] = mbo.callTheta if option_data[option][\"type\"] == \"CE\" else mbo.putTheta\n",
    "    option_data[option][\"vega\"] = mbo.vega\n",
    "    option_data[option][\"gamma\"] = mbo.gamma\n"
   ]
  },
  {
   "cell_type": "code",
   "execution_count": 131,
   "id": "6a9dc806-07f8-467a-9c5f-bca1549bae64",
   "metadata": {},
   "outputs": [
    {
     "name": "stdout",
     "output_type": "stream",
     "text": [
      "Processing option: BANKNIFTY30OCT2452000CE, Data: {'strike': 52000.0, 'type': 'OPTIDX', 'time_to_expiry': -0.11758254975694446}\n"
     ]
    }
   ],
   "source": [
    "print(f\"Processing option: {option}, Data: {option_data[option]}\")\n"
   ]
  },
  {
   "cell_type": "code",
   "execution_count": 133,
   "id": "c85c202e-8914-4a7f-b1ca-f228a1391984",
   "metadata": {},
   "outputs": [],
   "source": [
    "def on_data(wsapp, message):\n",
    "    try:\n",
    "        option_data[symbol_dict[message['token']]][\"price\"] = float(message[\"last_traded_price\"])\n",
    "        # Other fields like OI, volume, bid, ask, etc.\n",
    "    except KeyError as e:\n",
    "        print(f\"Key error: {e} in message {message}\")\n"
   ]
  },
  {
   "cell_type": "code",
   "execution_count": 135,
   "id": "331f2e55-d9a5-4ffc-b38c-9ad4f80de9f5",
   "metadata": {},
   "outputs": [],
   "source": [
    "def bollingerBand(df, period=20, multiple=2):\n",
    "    df[\"ema\"] = df[\"Adj Close\"].ewm(span=period,min_periods=period).mean()\n",
    "    df[\"bb_up\"] = df[\"ema\"] + multiple*df[\"Adj Close\"].rolling(period).std(ddof=0)\n",
    "    df[\"bb_dn\"] = df[\"ema\"] - multiple*df[\"Adj Close\"].rolling(period).std(ddof=0)\n",
    "    "
   ]
  },
  {
   "cell_type": "code",
   "execution_count": 137,
   "id": "b92e6ed6-ed00-4500-8a5d-a3b6dfe44bb8",
   "metadata": {},
   "outputs": [],
   "source": [
    "\n",
    "def risk_reward(opt_data):\n",
    "    strikes = opt_data.strike.to_list()\n",
    "    price = opt_data.price.to_list()\n",
    "    risk_to_reward = (float(price[0]) - float(price[1]))/(int(strikes[1]) - int(strikes[0]))\n",
    "    return round(risk_to_reward,2)\n",
    "\n"
   ]
  },
  {
   "cell_type": "code",
   "execution_count": 139,
   "id": "6806c764-8f08-45d6-b7d4-a77be8434837",
   "metadata": {},
   "outputs": [],
   "source": [
    "def place_limit_order(order_params):\n",
    "    response = obj.placeOrder(order_params)\n",
    "    return response"
   ]
  },
  {
   "cell_type": "code",
   "execution_count": 141,
   "id": "a77a59ed-f2fe-4b54-8f40-4ae4cc685a56",
   "metadata": {},
   "outputs": [],
   "source": [
    "def order_status_check(ord_id):\n",
    "    #this function stops the code execution unless the order_id's status turns to COMPLETE\n",
    "    pending_complete = True\n",
    "    while pending_complete:\n",
    "        orders = obj.orderBook()\n",
    "        orders_df = pd.DataFrame(orders[\"data\"])\n",
    "        orderstatus = orders_df.loc[orders_df.orderid==ord_id, \"orderstatus\"].to_list()[0]\n",
    "        if orderstatus==\"complete\":\n",
    "            break\n",
    "        time.sleep(10)"
   ]
  },
  {
   "cell_type": "code",
   "execution_count": 143,
   "id": "a842429a-34b8-4803-96d8-d8909694b721",
   "metadata": {},
   "outputs": [],
   "source": [
    "def placeBasketOrder(order_param_list, assure_execution=[0]):\n",
    "    for count, order in enumerate(order_param_list):\n",
    "        order_id = place_limit_order(order)\n",
    "        if count in assure_execution:\n",
    "            order_status_check(order_id)  "
   ]
  },
  {
   "cell_type": "code",
   "execution_count": 145,
   "id": "87452733-a32a-4fe3-870b-5b25f80521ce",
   "metadata": {},
   "outputs": [],
   "source": [
    "def create_order_params(opt_data):            \n",
    "    order_params =  [{\n",
    "                    \"variety\":\"NORMAL\",\n",
    "                    \"tradingsymbol\": opt_chain.symbol.to_list()[1],\n",
    "                    \"symboltoken\": opt_chain.token.to_list()[1],\n",
    "                    \"transactiontype\": \"BUY\",\n",
    "                    \"exchange\":\"NFO\",\n",
    "                    \"ordertype\":\"LIMIT\",\n",
    "                    \"producttype\":\"CARRYFORWARD\",\n",
    "                    \"duration\":\"DAY\",\n",
    "                    \"price\":opt_data.price.to_list()[1],\n",
    "                    \"quantity\": opt_chain.lotsize.to_list()[1]\n",
    "                    },\n",
    "                    {\n",
    "                    \"variety\":\"NORMAL\",\n",
    "                    \"tradingsymbol\": opt_chain.symbol.to_list()[0],\n",
    "                    \"symboltoken\": opt_chain.token.to_list()[0],\n",
    "                    \"transactiontype\": \"SELL\",\n",
    "                    \"exchange\":\"NFO\",\n",
    "                    \"ordertype\":\"LIMIT\",\n",
    "                    \"producttype\":\"CARRYFORWARD\",\n",
    "                    \"duration\":\"DAY\",\n",
    "                    \"price\":opt_data.price.to_list()[0],\n",
    "                    \"quantity\": opt_chain.lotsize.to_list()[0]\n",
    "                    }]\n",
    "    \n",
    "    return order_params"
   ]
  },
  {
   "cell_type": "code",
   "execution_count": 169,
   "id": "96bdd44a-6fc5-4241-b158-243181b92a13",
   "metadata": {},
   "outputs": [],
   "source": [
    "def strategy(opt_data):\n",
    "    pos_df = pd.DataFrame(obj.position()[\"data\"])\n",
    "    holding_df = pd.DataFrame(obj.holding()[\"data\"])\n",
    "    ord_df = pd.DataFrame(obj.orderBook()[\"data\"])\n",
    "    \n",
    "    option_data_df = pd.DataFrame(opt_data).T\n",
    "    \n",
    "    if len(holding_df)>0:\n",
    "        if len([i for i in holding_df.tradingsymbol if i in option_data_df.index]) > 0:\n",
    "            return\n",
    "    \n",
    "    if len(pos_df)>0:\n",
    "        if len([i for i in pos_df.tradingsymbol if i in option_data_df.index]) > 0:\n",
    "            return\n",
    "    \n",
    "    if len(ord_df)>0:\n",
    "        if len([i for i in ord_df.tradingsymbol if i in option_data_df.index]) > 0:\n",
    "            return\n",
    "    \n",
    "    ohlc = yf.download(\"^NSEBANK\", period='55d', interval='5m')\n",
    "    #ohlc = fetchOHLC(ticker,\"5minute\",4)\n",
    "    bollingerBand(ohlc)\n",
    "    \n",
    "    if (ohlc[\"Adj Close\"].iloc[-2] > ohlc[\"bb_up\"].iloc[-2]) and \\\n",
    "        (ohlc[\"Adj Close\"].iloc[-1] < ohlc[\"bb_up\"].iloc[-1]):\n",
    "            if risk_reward(option_data_df) > 0.4:\n",
    "                order_params = create_order_params(option_data_df)\n",
    "                print(\"order placed\")\n",
    "                #placeBasketOrder(order_params)"
   ]
  },
  {
   "cell_type": "code",
   "execution_count": null,
   "id": "69940832-78ab-4717-8a89-00b3fa91fc17",
   "metadata": {},
   "outputs": [],
   "source": [
    "starttime = time.time()\n",
    "timeout = starttime + 60*60*5  # 5 hours timeout\n",
    "\n",
    "while time.time() <= timeout:\n",
    "    try:\n",
    "        strategy(option_data)\n",
    "        time.sleep(300 - ((time.time() - starttime) % 300))  # Sleep for remainder of the 5-minute interval\n",
    "    except Exception as e:\n",
    "        print(e)"
   ]
  }
 ],
 "metadata": {
  "kernelspec": {
   "display_name": "Python 3 (ipykernel)",
   "language": "python",
   "name": "python3"
  },
  "language_info": {
   "codemirror_mode": {
    "name": "ipython",
    "version": 3
   },
   "file_extension": ".py",
   "mimetype": "text/x-python",
   "name": "python",
   "nbconvert_exporter": "python",
   "pygments_lexer": "ipython3",
   "version": "3.12.4"
  }
 },
 "nbformat": 4,
 "nbformat_minor": 5
}
